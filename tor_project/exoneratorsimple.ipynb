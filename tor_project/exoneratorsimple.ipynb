{
 "cells": [
  {
   "cell_type": "code",
   "execution_count": 9,
   "id": "7d99a51d-a769-4d59-9978-27eb26e1771a",
   "metadata": {},
   "outputs": [
    {
     "name": "stdout",
     "output_type": "stream",
     "text": [
      "L'IP 178.20.55.16 est un nœud Tor. Détails des relais :\n",
      "Nom: marcuse2, Fingerprint: 05A48DCB220236FCCA21B432C3D4A1FCE8AFCEEB, Adresses: 178.20.55.16, [2a00:1b88:4::2]\n",
      "Nom: marcuse8, Fingerprint: 44D1929690CF1DEF95C5D1F4F66281CF18311618, Adresses: 178.20.55.16, [2a00:1b88:4::2]\n",
      "Nom: marcuse6, Fingerprint: 5409FECC2C4B59D4573AAE935BE31C5675E81431, Adresses: 178.20.55.16, [2a00:1b88:4::2]\n",
      "Nom: marcuse1, Fingerprint: A319D6447B2B4107477E126EE4A2B7C38125149E, Adresses: 178.20.55.16, [2a00:1b88:4::2]\n",
      "Nom: marcuse4, Fingerprint: CFAB19E23290F5BA1F7FF24494D26FBD4E4DF6CE, Adresses: 178.20.55.16, [2a00:1b88:4::2]\n",
      "Nom: marcuse5, Fingerprint: D881FA3C5A642541932ACED4A3C5140742096D11, Adresses: 178.20.55.16, [2a00:1b88:4::2]\n",
      "Nom: marcuse3, Fingerprint: E2DA7E67DFC30B19C50F2957C0AAFD226143D7C8, Adresses: 178.20.55.16, [2a00:1b88:4::2]\n",
      "Nom: marcuse7, Fingerprint: EFF127FA3E850B17BF9A980AFB010A172F6C6FAF, Adresses: 178.20.55.16, [2a00:1b88:4::2]\n"
     ]
    }
   ],
   "source": [
    "import requests\n",
    "\n",
    "def check_tor_relay(ip_address):\n",
    "    url = f\"https://onionoo.torproject.org/summary?search={ip_address}\"\n",
    "    response = requests.get(url)\n",
    "    \n",
    "    if response.status_code == 200:\n",
    "        data = response.json()\n",
    "        \n",
    "        # Vérification si des relais ont été trouvés\n",
    "        if data['relays']:\n",
    "            print(f\"L'IP {ip_address} est un nœud Tor. Détails des relais :\")\n",
    "            for relay in data['relays']:\n",
    "                print(f\"Nom: {relay['n']}, Fingerprint: {relay['f']}, Adresses: {', '.join(relay['a'])}\")\n",
    "        else:\n",
    "            print(f\"L'IP {ip_address} n'est pas un nœud Tor actuellement.\")\n",
    "    else:\n",
    "        print(f\"Erreur lors de la requête: {response.status_code}\")\n",
    "\n",
    "# Exemple d'utilisation\n",
    "ip = \"178.20.55.16\"  # Remplacez par votre IP\n",
    "check_tor_relay(ip)\n"
   ]
  },
  {
   "cell_type": "code",
   "execution_count": null,
   "id": "921eb39f-aa48-4f9e-b43a-37ef12061073",
   "metadata": {},
   "outputs": [],
   "source": []
  }
 ],
 "metadata": {
  "kernelspec": {
   "display_name": "Python 3 (ipykernel)",
   "language": "python",
   "name": "python3"
  },
  "language_info": {
   "codemirror_mode": {
    "name": "ipython",
    "version": 3
   },
   "file_extension": ".py",
   "mimetype": "text/x-python",
   "name": "python",
   "nbconvert_exporter": "python",
   "pygments_lexer": "ipython3",
   "version": "3.12.6"
  }
 },
 "nbformat": 4,
 "nbformat_minor": 5
}
