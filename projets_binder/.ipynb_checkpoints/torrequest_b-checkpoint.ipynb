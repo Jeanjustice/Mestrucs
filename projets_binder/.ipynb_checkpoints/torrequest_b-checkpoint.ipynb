{
 "cells": [
  {
   "cell_type": "code",
   "execution_count": 1,
   "id": "fa49acf6-ce91-4714-9c47-46190edcea45",
   "metadata": {},
   "outputs": [
    {
     "data": {
      "application/vnd.jupyter.widget-view+json": {
       "model_id": "83f08df533944efcac67a41a35fd56fb",
       "version_major": 2,
       "version_minor": 0
      },
      "text/plain": [
       "Textarea(value='', description='Adresses IP:', layout=Layout(height='200px', width='100%'), placeholder='Colle…"
      ]
     },
     "metadata": {},
     "output_type": "display_data"
    },
    {
     "data": {
      "application/vnd.jupyter.widget-view+json": {
       "model_id": "813dff8ad10d42689d921e6e053a784c",
       "version_major": 2,
       "version_minor": 0
      },
      "text/plain": [
       "Button(description='Vérifier les IPs', style=ButtonStyle())"
      ]
     },
     "metadata": {},
     "output_type": "display_data"
    },
    {
     "data": {
      "application/vnd.jupyter.widget-view+json": {
       "model_id": "9e5f3151a57a42f18def86972192e40e",
       "version_major": 2,
       "version_minor": 0
      },
      "text/plain": [
       "Output()"
      ]
     },
     "metadata": {},
     "output_type": "display_data"
    }
   ],
   "source": [
    "import requests\n",
    "import pandas as pd\n",
    "from ipywidgets import widgets\n",
    "from IPython.display import display\n",
    "\n",
    "# Fonction pour vérifier si une adresse IP est un relais Tor\n",
    "def check_tor_relay(ip_address):\n",
    "    url = f\"https://onionoo.torproject.org/summary?search={ip_address}\"\n",
    "    response = requests.get(url)\n",
    "    \n",
    "    if response.status_code == 200:\n",
    "        data = response.json()\n",
    "        if data['relays']:\n",
    "            relays_info = []\n",
    "            for relay in data['relays']:\n",
    "                relays_info.append({\n",
    "                    'Nom': relay['n'],\n",
    "                    'Fingerprint': relay['f'],\n",
    "                    'Adresses': ', '.join(relay['a']),\n",
    "                })\n",
    "            return relays_info\n",
    "        else:\n",
    "            return None\n",
    "    else:\n",
    "        return [{'Nom': 'Erreur', 'Fingerprint': 'Erreur', 'Adresses': f\"Erreur lors de la requête: {response.status_code}\"}]\n",
    "\n",
    "# Interface pour copier-coller des adresses IP\n",
    "ip_input_area = widgets.Textarea(\n",
    "    value='',\n",
    "    placeholder='Collez ici les adresses IP, une par ligne',\n",
    "    description='Adresses IP:',\n",
    "    layout=widgets.Layout(width='100%', height='200px')\n",
    ")\n",
    "\n",
    "run_button = widgets.Button(description=\"Vérifier les IPs\")\n",
    "output = widgets.Output()\n",
    "\n",
    "def on_run_button_clicked(b):\n",
    "    with output:\n",
    "        output.clear_output()\n",
    "        ip_input = ip_input_area.value.strip()\n",
    "        if ip_input:\n",
    "            ip_list = ip_input.split('\\n')\n",
    "            results = []\n",
    "            negative_results = []\n",
    "\n",
    "            for ip in ip_list:\n",
    "                result = check_tor_relay(ip.strip())\n",
    "                if result is None:\n",
    "                    negative_results.append(f\"L'IP {ip} n'est pas un nœud Tor actuellement.\")\n",
    "                else:\n",
    "                    results.extend(result)\n",
    "\n",
    "            # Affichage des résultats\n",
    "            if results:\n",
    "                results_df = pd.DataFrame(results)\n",
    "                display(results_df)\n",
    "            else:\n",
    "                print(\"Aucun relais Tor trouvé.\")\n",
    "\n",
    "            if negative_results:\n",
    "                print(\"Résultats négatifs :\")\n",
    "                for neg_res in negative_results:\n",
    "                    print(neg_res)\n",
    "\n",
    "run_button.on_click(on_run_button_clicked)\n",
    "\n",
    "display(ip_input_area, run_button, output)\n"
   ]
  },
  {
   "cell_type": "code",
   "execution_count": null,
   "id": "6d154b29-9987-455b-8908-535769d2ac6e",
   "metadata": {},
   "outputs": [],
   "source": []
  }
 ],
 "metadata": {
  "kernelspec": {
   "display_name": "Python 3 (ipykernel)",
   "language": "python",
   "name": "python3"
  },
  "language_info": {
   "codemirror_mode": {
    "name": "ipython",
    "version": 3
   },
   "file_extension": ".py",
   "mimetype": "text/x-python",
   "name": "python",
   "nbconvert_exporter": "python",
   "pygments_lexer": "ipython3",
   "version": "3.12.6"
  }
 },
 "nbformat": 4,
 "nbformat_minor": 5
}
