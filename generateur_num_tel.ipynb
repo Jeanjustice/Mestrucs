{
 "cells": [
  {
   "cell_type": "code",
   "execution_count": 7,
   "id": "5799aed0-9677-43f9-b19f-62d1e467389f",
   "metadata": {},
   "outputs": [
    {
     "name": "stderr",
     "output_type": "stream",
     "text": [
      "2024-10-01 15:42:38.934 Thread 'MainThread': missing ScriptRunContext! This warning can be ignored when running in bare mode.\n",
      "2024-10-01 15:42:38.934 Thread 'MainThread': missing ScriptRunContext! This warning can be ignored when running in bare mode.\n",
      "2024-10-01 15:42:38.948 Thread 'MainThread': missing ScriptRunContext! This warning can be ignored when running in bare mode.\n",
      "2024-10-01 15:42:38.950 Thread 'MainThread': missing ScriptRunContext! This warning can be ignored when running in bare mode.\n",
      "2024-10-01 15:42:38.951 Thread 'MainThread': missing ScriptRunContext! This warning can be ignored when running in bare mode.\n",
      "2024-10-01 15:42:38.951 Thread 'MainThread': missing ScriptRunContext! This warning can be ignored when running in bare mode.\n"
     ]
    }
   ],
   "source": [
    "import streamlit as st\n",
    "import random\n",
    "\n",
    "def generate_phone_numbers(num=50):\n",
    "    phone_numbers = []\n",
    "    for _ in range(num):\n",
    "        prefix = random.choice(['06', '07'])\n",
    "        number = ''.join(random.choices('0123456789', k=8))\n",
    "        phone_number = f\"{prefix}{number}\"\n",
    "        phone_numbers.append(phone_number)\n",
    "    return phone_numbers\n",
    "\n",
    "# Configuration de l'application Streamlit\n",
    "st.title(\"Générateur de Numéros de Téléphone\")\n",
    "\n",
    "if st.button(\"Générer des Numéros de Téléphone\"):\n",
    "    generated_numbers = generate_phone_numbers()\n",
    "    st.write(\"### Numéros générés :\")\n",
    "    \n",
    "    # Convertir les numéros en chaîne de caractères\n",
    "    numbers_str = \"\\n\".join(generated_numbers)\n",
    "    \n",
    "    # Afficher les numéros dans un text area pour le copier\n",
    "    st.text_area(\"Numéros générés (vous pouvez copier ici)\", numbers_str, height=300)\n",
    "\n",
    "    # Créer des colonnes pour afficher les numéros par colonne\n",
    "    cols = st.columns(5)  # 5 colonnes\n",
    "    for i, number in enumerate(generated_numbers):\n",
    "        col_index = i % 5  # Calculer l'index de la colonne\n",
    "        cols[col_index].write(number)\n",
    "\n",
    "    # Bouton de téléchargement pour copier dans le presse-papiers\n",
    "    st.download_button(\n",
    "        label=\"Télécharger les numéros\",\n",
    "        data=numbers_str,\n",
    "        file_name='numeros_telephone.txt',\n",
    "        mime='text/plain'\n",
    "    )\n",
    "\n",
    "    # JavaScript pour copier les numéros générés dans le presse-papiers\n",
    "    st.markdown(\n",
    "        f\"\"\"\n",
    "        <script>\n",
    "        function copyToClipboard() {{\n",
    "            navigator.clipboard.writeText(`{numbers_str}`);\n",
    "            alert('Les numéros ont été copiés dans le presse-papiers !');\n",
    "        }}\n",
    "        </script>\n",
    "        <button onclick=\"copyToClipboard()\">Copier dans le Presse-papiers</button>\n",
    "        \"\"\",\n",
    "        unsafe_allow_html=True\n",
    "    )\n"
   ]
  },
  {
   "cell_type": "code",
   "execution_count": null,
   "id": "8ea82cf2-6f5b-4812-b019-7b6bbbbb820d",
   "metadata": {},
   "outputs": [],
   "source": []
  },
  {
   "cell_type": "code",
   "execution_count": null,
   "id": "e57ab7ca-beb9-4fa2-9276-493872c90844",
   "metadata": {},
   "outputs": [],
   "source": []
  }
 ],
 "metadata": {
  "kernelspec": {
   "display_name": "Python 3 (ipykernel)",
   "language": "python",
   "name": "python3"
  },
  "language_info": {
   "codemirror_mode": {
    "name": "ipython",
    "version": 3
   },
   "file_extension": ".py",
   "mimetype": "text/x-python",
   "name": "python",
   "nbconvert_exporter": "python",
   "pygments_lexer": "ipython3",
   "version": "3.12.6"
  }
 },
 "nbformat": 4,
 "nbformat_minor": 5
}
