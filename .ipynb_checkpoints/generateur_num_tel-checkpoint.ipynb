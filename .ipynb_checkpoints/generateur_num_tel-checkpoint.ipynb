{
 "cells": [
  {
   "cell_type": "code",
   "execution_count": 4,
   "id": "5799aed0-9677-43f9-b19f-62d1e467389f",
   "metadata": {},
   "outputs": [
    {
     "name": "stdout",
     "output_type": "stream",
     "text": [
      "07 74 31 66 67\n",
      "07 80 74 93 35\n",
      "07 66 47 22 24\n",
      "07 48 19 35 14\n",
      "07 24 47 29 89\n",
      "06 43 14 38 46\n",
      "07 96 09 85 37\n",
      "06 84 33 77 32\n",
      "06 69 51 94 46\n",
      "07 18 10 27 36\n",
      "07 54 94 22 06\n",
      "06 04 45 40 14\n",
      "07 58 66 64 42\n",
      "06 88 49 37 24\n",
      "07 83 14 51 06\n",
      "06 28 73 93 00\n",
      "06 60 49 97 98\n",
      "06 57 99 99 46\n",
      "06 46 53 78 79\n",
      "06 36 19 71 55\n",
      "06 78 04 52 25\n",
      "06 88 21 20 97\n",
      "07 47 19 38 19\n",
      "07 96 35 99 23\n",
      "06 47 12 69 63\n",
      "06 01 60 05 02\n",
      "06 20 80 84 55\n",
      "07 47 96 51 85\n",
      "07 41 28 78 47\n",
      "06 55 28 19 82\n",
      "07 38 27 70 94\n",
      "07 80 02 95 25\n",
      "07 87 05 39 07\n",
      "06 86 07 82 25\n",
      "07 71 57 42 97\n",
      "06 79 02 33 07\n",
      "07 00 70 11 51\n",
      "06 48 64 40 93\n",
      "06 82 80 40 98\n",
      "06 94 53 30 29\n",
      "07 28 40 29 37\n",
      "06 77 60 29 14\n",
      "07 04 47 78 83\n",
      "06 28 76 39 67\n",
      "06 38 61 27 30\n",
      "06 60 52 93 19\n",
      "06 78 85 67 12\n",
      "07 08 71 35 19\n",
      "06 36 92 33 48\n",
      "07 32 82 72 93\n"
     ]
    }
   ],
   "source": [
    "import random\n",
    "\n",
    "def format_phone_number(number):\n",
    "    # Insérer un espace tous les deux chiffres\n",
    "    return ' '.join([number[i:i+2] for i in range(0, len(number), 2)])\n",
    "\n",
    "def generate_phone_numbers(num=50):\n",
    "    phone_numbers = []\n",
    "    \n",
    "    for _ in range(num):\n",
    "        # Choisir aléatoirement entre 06 et 07\n",
    "        prefix = random.choice(['06', '07'])\n",
    "        # Générer les 8 chiffres restants\n",
    "        number = ''.join(random.choices('0123456789', k=8))\n",
    "        # Combiner le préfixe et le numéro\n",
    "        phone_number = f\"{prefix}{number}\"\n",
    "        # Formater le numéro avec des espaces\n",
    "        formatted_number = format_phone_number(phone_number)\n",
    "        phone_numbers.append(formatted_number)\n",
    "    \n",
    "    return phone_numbers\n",
    "\n",
    "# Générer 50 numéros de téléphone\n",
    "generated_numbers = generate_phone_numbers()\n",
    "for number in generated_numbers:\n",
    "    print(number)"
   ]
  },
  {
   "cell_type": "code",
   "execution_count": null,
   "id": "8ea82cf2-6f5b-4812-b019-7b6bbbbb820d",
   "metadata": {},
   "outputs": [],
   "source": []
  },
  {
   "cell_type": "code",
   "execution_count": null,
   "id": "e57ab7ca-beb9-4fa2-9276-493872c90844",
   "metadata": {},
   "outputs": [],
   "source": []
  }
 ],
 "metadata": {
  "kernelspec": {
   "display_name": "Python 3 (ipykernel)",
   "language": "python",
   "name": "python3"
  },
  "language_info": {
   "codemirror_mode": {
    "name": "ipython",
    "version": 3
   },
   "file_extension": ".py",
   "mimetype": "text/x-python",
   "name": "python",
   "nbconvert_exporter": "python",
   "pygments_lexer": "ipython3",
   "version": "3.12.6"
  }
 },
 "nbformat": 4,
 "nbformat_minor": 5
}
